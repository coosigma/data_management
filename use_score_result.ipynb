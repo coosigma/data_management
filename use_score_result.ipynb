{
 "cells": [
  {
   "cell_type": "code",
   "execution_count": 93,
   "metadata": {},
   "outputs": [],
   "source": [
    "from collections import OrderedDict\n",
    "from sqlalchemy import create_engine\n",
    "from Levenshtein import distance\n",
    "import numpy as np\n",
    "import pandas as pd\n",
    "import numba as nb\n",
    "import scipy as sp\n",
    "import pymysql, time, re, math, pickle, h5py, os\n",
    "from scipy.sparse import csr_matrix\n",
    "from IPython.core.debugger import Tracer\n",
    "# import warnings\n",
    "# warnings.filterwarnings('ignore')"
   ]
  },
  {
   "cell_type": "markdown",
   "metadata": {},
   "source": [
    "# Connecting to database"
   ]
  },
  {
   "cell_type": "code",
   "execution_count": 94,
   "metadata": {},
   "outputs": [],
   "source": [
    "config = {\n",
    "    'user': 'staging',\n",
    "    'passwd': '$dsaGSD92&76',\n",
    "    'host': '10.106.48.3',\n",
    "    'port': '3306',\n",
    "}"
   ]
  },
  {
   "cell_type": "code",
   "execution_count": 95,
   "metadata": {},
   "outputs": [],
   "source": [
    "dbName = \"partly_staging\"\n",
    "charSet = \"utf8mb4\"\n",
    "cusrorType = pymysql.cursors.DictCursor"
   ]
  },
  {
   "cell_type": "code",
   "execution_count": 96,
   "metadata": {},
   "outputs": [],
   "source": [
    "path = './Data/csr_matrix.h5'"
   ]
  },
  {
   "cell_type": "code",
   "execution_count": 97,
   "metadata": {
    "scrolled": true
   },
   "outputs": [],
   "source": [
    "hf = h5py.File(path, \"r\")\n",
    "vdset = hf['vehicle_scores']\n",
    "edset = hf['engine_scores']"
   ]
  },
  {
   "cell_type": "code",
   "execution_count": 98,
   "metadata": {},
   "outputs": [],
   "source": [
    "engine_df = pd.DataFrame(data=hf.get('engine_scores')[:], columns=[\"supercheap_id\", \"top_mappings\"])\n",
    "vehicle_df = pd.DataFrame(data=hf.get('vehicle_scores')[:], columns=[\"supercheap_id\", \"top_mappings\"])"
   ]
  },
  {
   "cell_type": "code",
   "execution_count": 99,
   "metadata": {},
   "outputs": [],
   "source": [
    "def convert_dtype(df):\n",
    "    df['supercheap_id'] = df['supercheap_id'].astype('int')\n",
    "    df['top_mappings'] = df['top_mappings'].str.decode('utf-8')"
   ]
  },
  {
   "cell_type": "code",
   "execution_count": 100,
   "metadata": {},
   "outputs": [],
   "source": [
    "convert_dtype(engine_df)\n",
    "convert_dtype(vehicle_df)"
   ]
  },
  {
   "cell_type": "markdown",
   "metadata": {},
   "source": [
    "# Writing to database"
   ]
  },
  {
   "cell_type": "markdown",
   "metadata": {},
   "source": [
    "## Creating tables"
   ]
  },
  {
   "cell_type": "code",
   "execution_count": 101,
   "metadata": {},
   "outputs": [],
   "source": [
    "try:\n",
    "    # Connect to database\n",
    "    dbc   = pymysql.connect(host=config['host'], user=config['user'], password=config['passwd'],\n",
    "                                     db=dbName, charset=charSet,cursorclass=cusrorType)\n",
    "    # Create a cursor object\n",
    "    cursor = dbc.cursor()                                     \n",
    "    # Creating mapping table for engine\n",
    "    sqlQuery = \"\"\"CREATE TABLE IF NOT EXISTS uvdb_supercheap_defined_engine(id bigint(20) unsigned NOT NULL AUTO_INCREMENT,\n",
    "                supercheap_id bigint(20) unsigned,\n",
    "                defined_engine_id int(10) unsigned,\n",
    "                score real(5, 2),\n",
    "                PRIMARY KEY (`id`),\n",
    "                CONSTRAINT `uvdb_defined_engine_id_foreign` FOREIGN KEY (`defined_engine_id`) REFERENCES `uvdb_defined_engines` (`id`))\n",
    "                \"\"\"\n",
    "    # Execute the sqlQuery\n",
    "    cursor.execute(sqlQuery)\n",
    "    # Creating mapping table for vehicle\n",
    "    sqlQuery = \"\"\"CREATE TABLE IF NOT EXISTS uvdb_supercheap_full_vehicle(id bigint(20) unsigned NOT NULL AUTO_INCREMENT,\n",
    "                supercheap_id bigint(20) unsigned,\n",
    "                full_vehicle_id int(10) unsigned,\n",
    "                score real(5, 2),\n",
    "                vin_code varchar(17) COLLATE utf8mb4_unicode_ci DEFAULT NULL,\n",
    "                PRIMARY KEY (`id`),\n",
    "                KEY `uvdb_supercheap_full_vehicle_vincode_index` (`vin_code`),\n",
    "                CONSTRAINT `uvdb_full_vehicle_id_foreign` FOREIGN KEY (`full_vehicle_id`) REFERENCES `uvdb_full_vehicles` (`id`))\n",
    "                \"\"\"\n",
    "    # Execute the sqlQuery\n",
    "    cursor.execute(sqlQuery)\n",
    "    #Fetch all the rows\n",
    "    rows = cursor.fetchall()\n",
    "    for row in rows:\n",
    "        print(row)\n",
    "except Exception as e:\n",
    "    print(\"Exeception occured:{}\".format(e))\n",
    "finally:\n",
    "    dbc.close()"
   ]
  },
  {
   "cell_type": "markdown",
   "metadata": {},
   "source": [
    "# Adding VIN code to vehicle's mapping table"
   ]
  },
  {
   "cell_type": "markdown",
   "metadata": {},
   "source": [
    "## Loading detail from supercheap data 2"
   ]
  },
  {
   "cell_type": "code",
   "execution_count": 102,
   "metadata": {},
   "outputs": [],
   "source": [
    "def load_table(config):\n",
    "    db_engine = create_engine(\n",
    "    f\"mysql+pymysql://{config['user']}:{config['passwd']}@{config['host']}:{config['port']}\", pool_recycle=3600)\n",
    "    dbc = db_engine.connect()\n",
    "\n",
    "    sql = \"select id, detail from ebay.supercheap_data_2\"\n",
    "    \n",
    "    detail_df = pd.read_sql(sql, dbc)\n",
    "    with open('detail_cache.dat', 'wb') as fh:\n",
    "        pickle.dump(detail_df, fh)\n",
    "    return detail_df"
   ]
  },
  {
   "cell_type": "code",
   "execution_count": 103,
   "metadata": {},
   "outputs": [],
   "source": [
    "refresh = 0\n",
    "if refresh == 1:\n",
    "    detail_df = load_table(config)\n",
    "else:\n",
    "    with open('detail_cache.dat', 'rb') as fh:\n",
    "        detail_df = pickle.load(fh)"
   ]
  },
  {
   "cell_type": "markdown",
   "metadata": {},
   "source": [
    "## Getting VIN"
   ]
  },
  {
   "cell_type": "code",
   "execution_count": 104,
   "metadata": {},
   "outputs": [],
   "source": [
    "def get_vin(row):\n",
    "    debug = 0\n",
    "    vin = ''\n",
    "    m = re.search(' ([0-9A-Z#]{5,})( +\\[| +,|$)', row.detail)\n",
    "    if m:\n",
    "        vin = m[1]\n",
    "    elif debug == 1:\n",
    "        print(f'id: {row.id} vin: {row.detail}')\n",
    "    return pd.Series({'id': row.id, 'vin_code': vin})"
   ]
  },
  {
   "cell_type": "code",
   "execution_count": 105,
   "metadata": {},
   "outputs": [],
   "source": [
    "refresh = 0\n",
    "if refresh == 1:\n",
    "    id_vin = detail_df.apply(get_vin, axis=1)\n",
    "else:\n",
    "    with open('vin_id_cache.dat', 'rb') as fh:\n",
    "        id_vin = pickle.load(fh)"
   ]
  },
  {
   "cell_type": "markdown",
   "metadata": {},
   "source": [
    "## Merging VIN to Super vehicle"
   ]
  },
  {
   "cell_type": "code",
   "execution_count": 106,
   "metadata": {},
   "outputs": [],
   "source": [
    "vin_vehicle = vehicle_df.merge(id_vin, how='left', left_on=\"supercheap_id\", right_on=\"id\")\n",
    "vin_vehicle.drop('id', axis=1, inplace=True)"
   ]
  },
  {
   "cell_type": "markdown",
   "metadata": {},
   "source": [
    "## Inserting data"
   ]
  },
  {
   "cell_type": "code",
   "execution_count": 107,
   "metadata": {},
   "outputs": [],
   "source": [
    "def form_insert_data(df, vin_mode=False):\n",
    "    res = []\n",
    "    for _, row in df.iterrows():\n",
    "        m = re.search(\"^(\\d+): ([0-9.]+)\\t\", row.top_mappings)\n",
    "        vin = ''\n",
    "        if vin_mode:\n",
    "            new_row = [row.supercheap_id, m[1], m[2], row.vin_code]\n",
    "        else:\n",
    "            new_row = [row.supercheap_id, m[1], m[2]]\n",
    "\n",
    "        res.append(tuple(new_row))\n",
    "    return res"
   ]
  },
  {
   "cell_type": "code",
   "execution_count": 108,
   "metadata": {},
   "outputs": [],
   "source": [
    "def insert_data(dbc, query, df, vin_mode=False):\n",
    "    try:\n",
    "        cursor = dbc.cursor()\n",
    "        data = form_insert_data(df, vin_mode)\n",
    "        cursor.executemany(query, data)\n",
    "        cursor.close()\n",
    "        dbc.commit()\n",
    "    except Exception as e:\n",
    "        print(\"Exeception occured:{}\".format(e))\n",
    "        dbc.rollback()\n",
    "        dbc.close()"
   ]
  },
  {
   "cell_type": "code",
   "execution_count": 109,
   "metadata": {},
   "outputs": [],
   "source": [
    "dbc = pymysql.connect(host=config['host'], user=config['user'], password=config['passwd'],\n",
    "                        db=dbName, charset=charSet,cursorclass=cusrorType)\n",
    "query_engine = '''INSERT INTO uvdb_supercheap_defined_engine(supercheap_id, defined_engine_id, score)\n",
    "            VALUES(%s, %s, %s)'''\n",
    "insert_data(dbc, query_engine, engine_df)\n",
    "query_vehicle = '''INSERT INTO uvdb_supercheap_full_vehicle(supercheap_id, full_vehicle_id, score, vin_code)\n",
    "            VALUES(%s, %s, %s, %s)'''\n",
    "insert_data(dbc, query_vehicle, vin_vehicle, True)\n",
    "dbc.close()"
   ]
  }
 ],
 "metadata": {
  "kernelspec": {
   "display_name": "Python 3",
   "language": "python",
   "name": "python3"
  },
  "language_info": {
   "codemirror_mode": {
    "name": "ipython",
    "version": 3
   },
   "file_extension": ".py",
   "mimetype": "text/x-python",
   "name": "python",
   "nbconvert_exporter": "python",
   "pygments_lexer": "ipython3",
   "version": "3.8.5"
  }
 },
 "nbformat": 4,
 "nbformat_minor": 4
}
